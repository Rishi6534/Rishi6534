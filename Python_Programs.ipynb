{
  "nbformat": 4,
  "nbformat_minor": 0,
  "metadata": {
    "colab": {
      "provenance": [],
      "authorship_tag": "ABX9TyPmK3KuPABZCEAcaJhIvTQg",
      "include_colab_link": true
    },
    "kernelspec": {
      "name": "python3",
      "display_name": "Python 3"
    },
    "language_info": {
      "name": "python"
    }
  },
  "cells": [
    {
      "cell_type": "markdown",
      "metadata": {
        "id": "view-in-github",
        "colab_type": "text"
      },
      "source": [
        "<a href=\"https://colab.research.google.com/github/Rishi6534/Rishi6534/blob/main/Python_Programs.ipynb\" target=\"_parent\"><img src=\"https://colab.research.google.com/assets/colab-badge.svg\" alt=\"Open In Colab\"/></a>"
      ]
    },
    {
      "cell_type": "code",
      "execution_count": null,
      "metadata": {
        "colab": {
          "base_uri": "https://localhost:8080/"
        },
        "id": "vq8v6WeESg1_",
        "outputId": "254c8906-167e-49a9-c35d-3807aca734a4"
      },
      "outputs": [
        {
          "output_type": "stream",
          "name": "stdout",
          "text": [
            "enter first number:12\n",
            "enter second number:13\n",
            "the sum of of 2 numbers a and b is : 25\n"
          ]
        }
      ],
      "source": [
        "# program to add 2 numbers\n",
        "\n",
        "a = int(input(\"enter first number:\"))\n",
        "b = int(input(\"enter second number:\"))\n",
        "sum = a+b\n",
        "print(\"the sum of of 2 numbers a and b is :\" , sum)"
      ]
    },
    {
      "cell_type": "code",
      "source": [
        "# program to find remainder and division\n",
        "a = 12\n",
        "b= 4\n",
        "print(a//b)\n",
        "print(a/b)\n",
        "print(a%b)"
      ],
      "metadata": {
        "colab": {
          "base_uri": "https://localhost:8080/"
        },
        "id": "ZUfmHNuvS51A",
        "outputId": "397ad7ea-99c1-4920-9317-4a00e1c7b756"
      },
      "execution_count": null,
      "outputs": [
        {
          "output_type": "stream",
          "name": "stdout",
          "text": [
            "3\n",
            "3.0\n",
            "0\n"
          ]
        }
      ]
    },
    {
      "cell_type": "code",
      "source": [
        "# program for type casting and knowing datatype\n",
        "\n",
        "a=12 #check for indentation errors properly\n",
        "b=23.8\n",
        "c=\"rishi\"\n",
        "d =''' \"hello\" reddy'''\n",
        "e =\"123\"\n",
        "f = int(e) #print(type(a)print(b)\n",
        "print(type(b))\n",
        "print(type(c))\n",
        "print(type(d))\n",
        "print(type(e))\n",
        "print(type(f))"
      ],
      "metadata": {
        "colab": {
          "base_uri": "https://localhost:8080/"
        },
        "id": "LUxWnZTBTYj8",
        "outputId": "1c99124d-1963-48cc-9b6d-1d9acf73ca06"
      },
      "execution_count": null,
      "outputs": [
        {
          "output_type": "stream",
          "name": "stdout",
          "text": [
            "<class 'float'>\n",
            "<class 'str'>\n",
            "<class 'str'>\n",
            "<class 'str'>\n",
            "<class 'int'>\n"
          ]
        }
      ]
    },
    {
      "cell_type": "code",
      "source": [
        "# using comparision between a = 30 and b =40\n",
        "\n",
        "a = 30\n",
        "b=40\n",
        "c = 'hello'\n",
        "d=\"rishi\"\n",
        "f =\"rishi\"\n",
        "print(a>b,a<b,a>=b,a<=b,a==b,f==d,c==d)"
      ],
      "metadata": {
        "colab": {
          "base_uri": "https://localhost:8080/"
        },
        "id": "lp8dLNeAWsfc",
        "outputId": "16643f5f-0627-4be4-d55b-ac116f450410"
      },
      "execution_count": null,
      "outputs": [
        {
          "output_type": "stream",
          "name": "stdout",
          "text": [
            "False True False True False True False\n"
          ]
        }
      ]
    },
    {
      "cell_type": "code",
      "source": [
        "#program for average of 2 numbers\n",
        "a = int(input(\"enter the number 1:\")) # type casting is done as input function alawys takes string input\n",
        "b = int(input(\"enter the number 2:\"))\n",
        "_avg = (a+b)/2\n",
        "print(\"avg of 2 numbers is:\",_avg)"
      ],
      "metadata": {
        "colab": {
          "base_uri": "https://localhost:8080/"
        },
        "id": "gQu7lZtaX3Bw",
        "outputId": "f6bf56e3-8917-49b9-d699-6444d7609fe3"
      },
      "execution_count": null,
      "outputs": [
        {
          "output_type": "stream",
          "name": "stdout",
          "text": [
            "enter the number 1:25\n",
            "enter the number 2:75\n",
            "avg of 2 numbers is: 50.0\n"
          ]
        }
      ]
    },
    {
      "cell_type": "code",
      "source": [
        "# to calculate square of a number entered by the user\n",
        "num = int(input(\"enter the number to be squared:\"))\n",
        "squared_num = num*num\n",
        "print(\"the square of given number is\",squared_num)"
      ],
      "metadata": {
        "colab": {
          "base_uri": "https://localhost:8080/"
        },
        "id": "k6FTyIfcY3fo",
        "outputId": "65ccbc6d-57f3-47a0-f1b6-8667dd1af695"
      },
      "execution_count": null,
      "outputs": [
        {
          "output_type": "stream",
          "name": "stdout",
          "text": [
            "enter the number to be squared:5\n",
            "the square of given number is 25\n"
          ]
        }
      ]
    },
    {
      "cell_type": "code",
      "source": [
        "#string concatenation\n",
        "a = 'hello'\n",
        "b = 'reddy'\n",
        "c = \"123\"\n",
        "#strings are immutable(not changable)\n",
        "d=\"456\"\n",
        "print(a+\" \"+b)\n",
        "print(c+d)"
      ],
      "metadata": {
        "colab": {
          "base_uri": "https://localhost:8080/"
        },
        "id": "wwSApQreaBtZ",
        "outputId": "ca4bccad-603b-49ce-c071-25f4b6e901cf"
      },
      "execution_count": null,
      "outputs": [
        {
          "output_type": "stream",
          "name": "stdout",
          "text": [
            "hello reddy\n",
            "123456\n"
          ]
        }
      ]
    },
    {
      "cell_type": "code",
      "source": [
        "#greeting if your name is entered\n",
        "name=input(\"enter your name:\")\n",
        "print(\"hi!, \",name,\" hello\")\n",
        "print(\"hi hello,\" +name) # string concatination"
      ],
      "metadata": {
        "colab": {
          "base_uri": "https://localhost:8080/"
        },
        "id": "dxJ_eqL6dQxR",
        "outputId": "2617afdb-5008-4a2c-e661-f14fa599318a"
      },
      "execution_count": null,
      "outputs": [
        {
          "output_type": "stream",
          "name": "stdout",
          "text": [
            "enter your name:Rishi\n",
            "hi!,  Rishi  hello\n",
            "hi hello,Rishi\n"
          ]
        }
      ]
    },
    {
      "cell_type": "code",
      "source": [
        "# fill the letter template given below with name and date.\n",
        "'''letter = dear<|name|>,you are selected! <|date|>'''\n",
        "letter = 'dear <|name|>,you are selected! <|date|>'\n",
        "#letter.replace(\"<|name|>\",\"Rishi\") ----> this will not replace because tthe updated value\n",
        "#again must be given to letter variable again\n",
        "letter = letter.replace(\"<|name|>\",\"Rishi\")\n",
        "letter =letter.replace(\"<|date|>\",\"13th feb 2024\")\n",
        "print(letter)\n"
      ],
      "metadata": {
        "colab": {
          "base_uri": "https://localhost:8080/"
        },
        "id": "hEW4zWGnlNpN",
        "outputId": "9f8bf74d-6037-4cd6-928e-b509b955fbdd"
      },
      "execution_count": null,
      "outputs": [
        {
          "output_type": "stream",
          "name": "stdout",
          "text": [
            "dear Rishi,you are selected! 13th feb 2024\n"
          ]
        }
      ]
    },
    {
      "cell_type": "code",
      "source": [
        "#program to detect double spaces and replace it with single space\n",
        "a =\"hello dear, rishi kumar  reddy\"\n",
        "print(a.find(\"  \"))#if output is -1 then we say no double space is present in string above\n",
        "a = a.replace(\"  \",\" \")\n",
        "print(a)\n",
        "formated_a =\"hello dear,\\n\\t rishi kumar  reddy\\nthanks\"\n",
        "print(formated_a)"
      ],
      "metadata": {
        "colab": {
          "base_uri": "https://localhost:8080/"
        },
        "id": "dYcUb68fpOLb",
        "outputId": "0f2a5b0e-2b0d-4373-9b28-d9b79892df99"
      },
      "execution_count": null,
      "outputs": [
        {
          "output_type": "stream",
          "name": "stdout",
          "text": [
            "23\n",
            "hello dear, rishi kumar reddy\n",
            "hello dear,\n",
            "\t rishi kumar  reddy\n",
            "thanks\n"
          ]
        }
      ]
    },
    {
      "cell_type": "code",
      "source": [
        "# WAP(write a program) to count the total number of characters in a string\n",
        "a = \"hello world\"\n",
        "print(\"the total nof characters in the string is:\",len(a))\n"
      ],
      "metadata": {
        "colab": {
          "base_uri": "https://localhost:8080/"
        },
        "id": "tspo3Uyarww7",
        "outputId": "9e0a1299-8ef6-46be-cdbb-60374e0e20c3"
      },
      "execution_count": null,
      "outputs": [
        {
          "output_type": "stream",
          "name": "stdout",
          "text": [
            "the total nof characters in the string is: 11\n"
          ]
        }
      ]
    },
    {
      "cell_type": "code",
      "source": [
        "# Lists are mutable and ordered.\n",
        "# Tuples are immutable.\n",
        "a =[\"sane\",1,23,23,'hello','sane']\n",
        "a.count('hello')\n",
        "print(a)\n",
        "a = a.count('sane')\n",
        "print(a)"
      ],
      "metadata": {
        "colab": {
          "base_uri": "https://localhost:8080/"
        },
        "id": "n-onCATTwsVn",
        "outputId": "1944fbea-e0cf-4f26-9cab-4d753f7dad6e"
      },
      "execution_count": null,
      "outputs": [
        {
          "output_type": "stream",
          "name": "stdout",
          "text": [
            "['sane', 1, 23, 23, 'hello', 'sane']\n",
            "2\n"
          ]
        }
      ]
    },
    {
      "cell_type": "code",
      "source": [
        "# WAP to store a seven fruits in a list enterd by the user\n",
        "a = input(\"enter fruit 1: \")\n",
        "b = input(\"enter fruit 2: \")\n",
        "c = input(\"enter fruit 3: \")\n",
        "d = input(\"enter fruit 4: \")\n",
        "e = input(\"enter fruit 5: \")\n",
        "f = input(\"enter fruit 6: \")\n",
        "g = input(\"enter fruit 7: \")\n",
        "mylist =[a,b,c,d,e,f,g]\n",
        "print(mylist)"
      ],
      "metadata": {
        "colab": {
          "base_uri": "https://localhost:8080/"
        },
        "id": "t5zPaa_d3Gy5",
        "outputId": "0907fe8e-56c6-4910-c7a0-fc822a89c673"
      },
      "execution_count": null,
      "outputs": [
        {
          "output_type": "stream",
          "name": "stdout",
          "text": [
            "enter fruit 1: mango\n",
            "enter fruit 2: banana\n",
            "enter fruit 3: apple\n",
            "enter fruit 4: watermelon\n",
            "enter fruit 5: jackfruit\n",
            "enter fruit 6: papaya\n",
            "enter fruit 7: orange\n",
            "['mango', 'banana', 'apple', 'watermelon', 'jackfruit', 'papaya', 'orange']\n"
          ]
        }
      ]
    },
    {
      "cell_type": "code",
      "source": [
        "# WAP to accept the marks of 778 students and display them in a sorted manner\n",
        "a = int(input(\"enter student 1 marks: \"))\n",
        "b = int(input(\"enter student 2 marks: \"))\n",
        "c = int(input(\"enter student 3 marks: \"))\n",
        "d = int(input(\"enter student 4 marks: \"))\n",
        "e = int(input(\"enter student 5 marks: \"))\n",
        "f = int(input(\"enter student 6 marks: \"))\n",
        "g = int(input(\"enter student 7 marks: \"))\n",
        "mylist =[a,b,c,d,e,f,g]\n",
        "\n",
        "mylist.sort()\n",
        "print(mylist)"
      ],
      "metadata": {
        "colab": {
          "base_uri": "https://localhost:8080/"
        },
        "id": "GHs4G0Y64AZd",
        "outputId": "6e3467bf-9736-43be-93e1-5c71e29d2314"
      },
      "execution_count": null,
      "outputs": [
        {
          "output_type": "stream",
          "name": "stdout",
          "text": [
            "enter student 1 marks: 15\n",
            "enter student 2 marks: 86\n",
            "enter student 3 marks: 75\n",
            "enter student 4 marks: 100\n",
            "enter student 5 marks: 59\n",
            "enter student 6 marks: 96\n",
            "enter student 7 marks: 56\n",
            "[15, 56, 59, 75, 86, 96, 100]\n"
          ]
        }
      ]
    },
    {
      "cell_type": "code",
      "source": [
        "#check tuple can't be changed in python\n",
        "a =(1,\"sane\",23.4,45)\n",
        "print(a[3])\n",
        "a[3]= 34\n",
        "print(a)"
      ],
      "metadata": {
        "id": "6H62DWVvqSaO",
        "colab": {
          "base_uri": "https://localhost:8080/",
          "height": 245
        },
        "outputId": "55e89b5d-2fae-482a-e671-820c942b4d43"
      },
      "execution_count": null,
      "outputs": [
        {
          "output_type": "stream",
          "name": "stdout",
          "text": [
            "45\n"
          ]
        },
        {
          "output_type": "error",
          "ename": "TypeError",
          "evalue": "'tuple' object does not support item assignment",
          "traceback": [
            "\u001b[0;31m---------------------------------------------------------------------------\u001b[0m",
            "\u001b[0;31mTypeError\u001b[0m                                 Traceback (most recent call last)",
            "\u001b[0;32m<ipython-input-19-5717f10b3e17>\u001b[0m in \u001b[0;36m<cell line: 4>\u001b[0;34m()\u001b[0m\n\u001b[1;32m      2\u001b[0m \u001b[0ma\u001b[0m \u001b[0;34m=\u001b[0m\u001b[0;34m(\u001b[0m\u001b[0;36m1\u001b[0m\u001b[0;34m,\u001b[0m\u001b[0;34m\"sane\"\u001b[0m\u001b[0;34m,\u001b[0m\u001b[0;36m23.4\u001b[0m\u001b[0;34m,\u001b[0m\u001b[0;36m45\u001b[0m\u001b[0;34m)\u001b[0m\u001b[0;34m\u001b[0m\u001b[0;34m\u001b[0m\u001b[0m\n\u001b[1;32m      3\u001b[0m \u001b[0mprint\u001b[0m\u001b[0;34m(\u001b[0m\u001b[0ma\u001b[0m\u001b[0;34m[\u001b[0m\u001b[0;36m3\u001b[0m\u001b[0;34m]\u001b[0m\u001b[0;34m)\u001b[0m\u001b[0;34m\u001b[0m\u001b[0;34m\u001b[0m\u001b[0m\n\u001b[0;32m----> 4\u001b[0;31m \u001b[0ma\u001b[0m\u001b[0;34m[\u001b[0m\u001b[0;36m3\u001b[0m\u001b[0;34m]\u001b[0m\u001b[0;34m=\u001b[0m \u001b[0;36m34\u001b[0m\u001b[0;34m\u001b[0m\u001b[0;34m\u001b[0m\u001b[0m\n\u001b[0m\u001b[1;32m      5\u001b[0m \u001b[0mprint\u001b[0m\u001b[0;34m(\u001b[0m\u001b[0ma\u001b[0m\u001b[0;34m)\u001b[0m\u001b[0;34m\u001b[0m\u001b[0;34m\u001b[0m\u001b[0m\n",
            "\u001b[0;31mTypeError\u001b[0m: 'tuple' object does not support item assignment"
          ]
        }
      ]
    },
    {
      "cell_type": "code",
      "source": [
        "#to count no of same items in tuple\n",
        "a=(1,2,45,32,21,32,54,32)\n",
        "a.count(32)"
      ],
      "metadata": {
        "colab": {
          "base_uri": "https://localhost:8080/"
        },
        "id": "w36ASp1OEyQ0",
        "outputId": "d7d1853f-4547-491c-c042-a8a10010f677"
      },
      "execution_count": null,
      "outputs": [
        {
          "output_type": "execute_result",
          "data": {
            "text/plain": [
              "3"
            ]
          },
          "metadata": {},
          "execution_count": 20
        }
      ]
    },
    {
      "cell_type": "code",
      "source": [
        "# wap to sum the lsit of numbers\n",
        "a =[1,3,5,67,24 ]\n",
        "print(a[0]+a[1]+a[2]+a[3]+a[4])\n",
        "print(sum(a)) # this is a function"
      ],
      "metadata": {
        "colab": {
          "base_uri": "https://localhost:8080/"
        },
        "id": "YmX16DNcFYqL",
        "outputId": "c881eea3-5e21-4d6f-985e-c3ad2570ae57"
      },
      "execution_count": null,
      "outputs": [
        {
          "output_type": "stream",
          "name": "stdout",
          "text": [
            "100\n",
            "100\n"
          ]
        }
      ]
    },
    {
      "cell_type": "code",
      "source": [
        "#dictonaries for using (key:value) pair\n",
        "'''dicts properties:it is unordered\n",
        "                    it is mutable\n",
        "                    it is indexed\n",
        "                    cant contain duplicate keys'''\n",
        "\n",
        "a ={1:\"sane\",\"anotherdict\":{\"hello world\": \"rishi\"},\"list\":[1,2,34.4]}\n",
        "print(a[1])\n",
        "print(a[\"anotherdict\"][\"hello world\"])#---->these are nested dictionaries(dict inside dicts)\n",
        "print(a[\"list\"])\n",
        "a[\"helloworld\"] = \"good morning\"\n",
        "print(a)"
      ],
      "metadata": {
        "colab": {
          "base_uri": "https://localhost:8080/"
        },
        "id": "fLjiKU4UGQDZ",
        "outputId": "caa6a290-f6f6-4700-ad58-442e7c56ec47"
      },
      "execution_count": null,
      "outputs": [
        {
          "output_type": "stream",
          "name": "stdout",
          "text": [
            "sane\n",
            "rishi\n",
            "[1, 2, 34.4]\n",
            "{1: 'sane', 'anotherdict': {'hello world': 'rishi'}, 'list': [1, 2, 34.4], 'helloworld': 'good morning'}\n"
          ]
        }
      ]
    },
    {
      "cell_type": "code",
      "source": [
        "#create dictionary for hindi-english dictionary transalation and user can access the value by the key entered by the user\n",
        "my_dict={\"pankha\":\"fan\",\"dabba\":\"box\",\"vastu\":\"item\"}\n",
        "print(\"the names can be chosen from below/n\",my_dict.keys())\n",
        "a =input(\"enter the hindi name to translate:\")\n",
        "\n",
        "print(\"the meaning of name entered is\",my_dict[a])#we can also use my_dict.get(a) in place of my_dict[a]\n"
      ],
      "metadata": {
        "id": "oW6Gz-QAHqgl",
        "colab": {
          "base_uri": "https://localhost:8080/"
        },
        "outputId": "f82fbe2e-2617-49d4-c0f5-8765dcba2e28"
      },
      "execution_count": null,
      "outputs": [
        {
          "output_type": "stream",
          "name": "stdout",
          "text": [
            "the names can be chosen from below/n dict_keys(['pankha', 'dabba', 'vastu'])\n",
            "enter the hindi name to translate:pankha\n",
            "the meaning of name entered is fan\n"
          ]
        }
      ]
    },
    {
      "cell_type": "code",
      "source": [
        "#WAP to input 8 numbers from the user and display all the unique characters\n",
        "a = int(input(\"enter no 1:\"))\n",
        "b = int(input(\"enter no 2:\"))\n",
        "c = int(input(\"enter no 3:\"))\n",
        "c = int(input(\"enter no 4:\"))\n",
        "d = int(input(\"enter no 5:\"))\n",
        "e = int(input(\"enter no 5:\"))\n",
        "f = int(input(\"enter no 6:\"))\n",
        "g = int(input(\"enter no 7:\"))\n",
        "i = int(input(\"enter no 8:\"))\n",
        "s = {a,b,c,d,e,f,g,i}\n",
        "print(s)\n"
      ],
      "metadata": {
        "colab": {
          "base_uri": "https://localhost:8080/"
        },
        "id": "BMsOchf4HPgB",
        "outputId": "865668a7-6f18-4b03-f7f4-a47c66cf4645"
      },
      "execution_count": null,
      "outputs": [
        {
          "output_type": "stream",
          "name": "stdout",
          "text": [
            "enter no 1:3\n",
            "enter no 2:54\n",
            "enter no 3:54\n",
            "enter no 4:4\n",
            "enter no 5:4\n",
            "enter no 5:6\n",
            "enter no 6:9\n",
            "enter no 7:8\n",
            "enter no 8:9\n",
            "{3, 4, 6, 8, 9, 54}\n"
          ]
        }
      ]
    },
    {
      "cell_type": "code",
      "source": [
        "#we can have 18 and '18' as different values in the set\n",
        "s={18,\"18\",18.0}#python treat 18,18.0 as same in the set\n",
        "print(s)\n",
        "print(len(s))"
      ],
      "metadata": {
        "colab": {
          "base_uri": "https://localhost:8080/"
        },
        "id": "vEI-hwMuG1HM",
        "outputId": "bfe00d7a-8fdd-404f-a3d5-5c930e31c852"
      },
      "execution_count": null,
      "outputs": [
        {
          "output_type": "stream",
          "name": "stdout",
          "text": [
            "{18, '18'}\n",
            "2\n"
          ]
        }
      ]
    },
    {
      "cell_type": "code",
      "source": [
        "#difference between set and dict\n",
        "a = {}\n",
        "b = set()\n",
        "print(type(a),type(b))"
      ],
      "metadata": {
        "colab": {
          "base_uri": "https://localhost:8080/"
        },
        "id": "_z-99TebLPW_",
        "outputId": "94ab0577-1d77-4fad-9cfe-7f9e0a42149a"
      },
      "execution_count": null,
      "outputs": [
        {
          "output_type": "stream",
          "name": "stdout",
          "text": [
            "<class 'dict'> <class 'set'>\n"
          ]
        }
      ]
    },
    {
      "cell_type": "code",
      "source": [
        "#create an empty dictionary and allow four friends to enter their favorite language as values and use keys as their names.assume  names are unique\n",
        "empty_dict={}\n",
        "\n",
        "a=input(\"enter the fav sub of bilvan:\")\n",
        "b=input(\"enter the fav sub of kruthik:\")\n",
        "c=input(\"enter the fav sub of himanth:\")\n",
        "d=input(\"enter the fav sub of rishi:\")\n",
        "empty_dict[\"bilvan\"]=a\n",
        "empty_dict[\"kruthik\"]=b\n",
        "empty_dict[\"himanth\"]=c\n",
        "empty_dict[\"rishi\"]=d\n",
        "print(empty_dict)\n",
        "\n"
      ],
      "metadata": {
        "colab": {
          "base_uri": "https://localhost:8080/"
        },
        "id": "v44YUAg-ML8X",
        "outputId": "ec8ef419-1113-4cb3-db4e-f7874ef31f02"
      },
      "execution_count": null,
      "outputs": [
        {
          "output_type": "stream",
          "name": "stdout",
          "text": [
            "enter the fav sub of bilvan:c language\n",
            "enter the fav sub of kruthik:python\n",
            "enter the fav sub of himanth:java\n",
            "enter the fav sub of rishi:Maths\n",
            "{'bilvan': 'c language', 'kruthik': 'python', 'himanth': 'java', 'rishi': 'Maths'}\n"
          ]
        }
      ]
    },
    {
      "cell_type": "code",
      "source": [
        "#program to print if the user is able to vote or not\n",
        "age = int(input(\"enter your age:\"))\n",
        "if(age>=18 and age<=80):\n",
        "  print(\"you can vote\")\n",
        "elif(age<18):\n",
        "  print(\"you can't vote\")\n",
        "else:\n",
        "  print(\"none\")\n"
      ],
      "metadata": {
        "colab": {
          "base_uri": "https://localhost:8080/"
        },
        "id": "ZLFkd8k3jxmU",
        "outputId": "cee77eb5-97d3-4542-c8da-c020865cd04f"
      },
      "execution_count": null,
      "outputs": [
        {
          "output_type": "stream",
          "name": "stdout",
          "text": [
            "enter your age:100\n",
            "none\n"
          ]
        }
      ]
    },
    {
      "cell_type": "code",
      "source": [
        "a = None#<<<<-----keyword\n",
        "b = [12,23,43.3]\n",
        "if(a is None):\n",
        "  print(\"yes\")\n",
        "else:\n",
        "  print(\"no\")\n",
        "  print(321 in b)"
      ],
      "metadata": {
        "colab": {
          "base_uri": "https://localhost:8080/"
        },
        "id": "qCE0c3WWmD_K",
        "outputId": "982e2fa9-4327-4316-d7a6-1b3ddd470127"
      },
      "execution_count": null,
      "outputs": [
        {
          "output_type": "stream",
          "name": "stdout",
          "text": [
            "yes\n"
          ]
        }
      ]
    },
    {
      "cell_type": "code",
      "source": [
        "#WAp to find greatest of 4 numbers entered by the user\n",
        "num1=int(input(\"enter num1:\"))\n",
        "num2=int(input(\"enter num2:\"))\n",
        "num3=int(input(\"enter num3:\"))\n",
        "num4=int(input(\"enter num4:\"))\n",
        "if(num1>num2):\n",
        "  f1=num1\n",
        "\n",
        "else:\n",
        "  f1 = num2\n",
        "\n",
        "if(num3>num4):\n",
        "  f2 = num3\n",
        "else:\n",
        "  f2 = num4\n",
        "if(f1>f2):\n",
        "  print(f1,\"is gratest\")\n",
        "else:\n",
        "  print(f2,\"is gratest\")\n",
        "\n",
        "\n",
        "\n",
        "\n"
      ],
      "metadata": {
        "id": "BsbDVvFPnLO7",
        "colab": {
          "base_uri": "https://localhost:8080/"
        },
        "outputId": "a115689a-3e18-4475-b11f-e384e7da9e03"
      },
      "execution_count": null,
      "outputs": [
        {
          "output_type": "stream",
          "name": "stdout",
          "text": [
            "enter num1:45\n",
            "enter num2:85\n",
            "enter num3:14\n",
            "enter num4:203\n",
            "203 is gratest\n"
          ]
        }
      ]
    },
    {
      "cell_type": "code",
      "source": [
        "#WAP to write to check weather student is fail or pass some constariants are take marks of 3 subjects as an input and every student\n",
        "#should get 33% marks in each subject and 40% marks totally.\n",
        "sub1=int(input(\"enter marks of mat:\"))\n",
        "sub2=int(input(\"enter marks of phy:\"))\n",
        "sub3=int(input(\"enter marks of chy:\"))\n",
        "marks=((sub1+sub2+sub3)/300)*100\n",
        "if(marks<=40 and (sub1<=33 or sub2<=33 or sub3<=33)):\n",
        "  print(\"fail\")\n",
        "else:\n",
        "  print(\"pass\")"
      ],
      "metadata": {
        "colab": {
          "base_uri": "https://localhost:8080/"
        },
        "id": "SBQgsw-ECxYb",
        "outputId": "ec05da02-b1ff-4eed-81ea-b58213150170"
      },
      "execution_count": null,
      "outputs": [
        {
          "output_type": "stream",
          "name": "stdout",
          "text": [
            "enter marks of mat:45\n",
            "enter marks of phy:45\n",
            "enter marks of chy:45\n",
            "pass\n"
          ]
        }
      ]
    },
    {
      "cell_type": "code",
      "source": [
        "#program to chek if the given string contains more than 10 characters or not\n",
        "string = input(\"enter the string:\")\n",
        "if(len(string)>10):\n",
        "  print(\"string has more than 10 languages\")\n",
        "else:\n",
        "  print(\"string has less than 10 characters\")"
      ],
      "metadata": {
        "colab": {
          "base_uri": "https://localhost:8080/"
        },
        "id": "v7_qPhjzzT0G",
        "outputId": "4d4fb555-cd54-4f13-a4aa-4f8f8033720c"
      },
      "execution_count": null,
      "outputs": [
        {
          "output_type": "stream",
          "name": "stdout",
          "text": [
            "enter the string:sane08@sd\n",
            "string has less than 10 characters\n"
          ]
        }
      ]
    },
    {
      "cell_type": "code",
      "source": [
        "# If text contains the following words \"make a lot of money\",\"buy now\",\"subscribe now\" and \"click here\" then tell to the user as it is a spam\n",
        "text=input(\"enter the text:\")\n",
        "spam = False\n",
        "if(\"make a lot of money\" in text):\n",
        "  spam=True\n",
        "elif(\"buy now\" in text):\n",
        "  spam=True\n",
        "elif(\"subscribe now\" in text or \"click here\" in text):\n",
        "  spam=True\n",
        "\n",
        "if(spam):\n",
        "  print(\"spam\")\n",
        "else:\n",
        "  print(\"msg is confidential\")\n",
        "\n"
      ],
      "metadata": {
        "id": "3zWDZLYeb3Vr",
        "colab": {
          "base_uri": "https://localhost:8080/"
        },
        "outputId": "d23ad0a3-c4ec-4d2c-b51e-e400fadb05f8"
      },
      "execution_count": null,
      "outputs": [
        {
          "output_type": "stream",
          "name": "stdout",
          "text": [
            "enter the text:please subscribe now to my channel and make a lot of money\n",
            "spam\n"
          ]
        }
      ]
    },
    {
      "cell_type": "code",
      "source": [
        "from google.colab import drive\n",
        "drive.mount('/content/drive')"
      ],
      "metadata": {
        "id": "gVvhqG6W9deX"
      },
      "execution_count": null,
      "outputs": []
    },
    {
      "cell_type": "code",
      "source": [
        "# check weather name is present in the list of names\n",
        "list=[\"sane\",\"rishi\",\"kumar\",\"reddy\"]\n",
        "name=input(\"enter the name:\")\n",
        "if(name in list):\n",
        "  print(name , \" is present in the list\")\n",
        "else:\n",
        "  print(name,\"is not present in the list\")\n",
        "\n"
      ],
      "metadata": {
        "colab": {
          "base_uri": "https://localhost:8080/"
        },
        "id": "3XxZbh-sfXOi",
        "outputId": "836dc1fc-dd00-4b0a-96fd-460934ba116f"
      },
      "execution_count": null,
      "outputs": [
        {
          "output_type": "stream",
          "name": "stdout",
          "text": [
            "enter the name:sane\n",
            "sane  is present in the list\n"
          ]
        }
      ]
    },
    {
      "cell_type": "code",
      "source": [
        "#while loop\n",
        "i=0\n",
        "while (i<10):\n",
        "  print(\"yes\",str(i))\n",
        "  i += 1"
      ],
      "metadata": {
        "colab": {
          "base_uri": "https://localhost:8080/"
        },
        "id": "SEUQi-q1knI4",
        "outputId": "51bd0f96-649e-42b2-d624-66a406b777eb"
      },
      "execution_count": null,
      "outputs": [
        {
          "output_type": "stream",
          "name": "stdout",
          "text": [
            "yes 0\n",
            "yes 1\n",
            "yes 2\n",
            "yes 3\n",
            "yes 4\n",
            "yes 5\n",
            "yes 6\n",
            "yes 7\n",
            "yes 8\n",
            "yes 9\n"
          ]
        }
      ]
    },
    {
      "cell_type": "code",
      "source": [
        "#print list of fruits using while loop\n",
        "list=[\"mango\",\"apple\",\"banana\",\"orange\"]\n",
        "i =0\n",
        "while(i<len(list)):\n",
        "  print(list[i])\n",
        "  i+=1"
      ],
      "metadata": {
        "colab": {
          "base_uri": "https://localhost:8080/"
        },
        "id": "6A4JfvUMlIJx",
        "outputId": "6cffb03d-62dd-49b5-b870-9bdbbe42780b"
      },
      "execution_count": null,
      "outputs": [
        {
          "output_type": "stream",
          "name": "stdout",
          "text": [
            "mango\n",
            "apple\n",
            "banana\n",
            "orange\n"
          ]
        }
      ]
    },
    {
      "cell_type": "code",
      "source": [
        "# print list of fruits using for loop\n",
        "list=[\"mango\",\"apple\",\"banana\",\"orange\"]\n",
        "for x in list:\n",
        "  print(x)\n",
        "for i in range(1,10):\n",
        "  print(i)\n",
        "  if(i==5):\n",
        "          break\n",
        "\n"
      ],
      "metadata": {
        "colab": {
          "base_uri": "https://localhost:8080/"
        },
        "id": "K3L5-DUOpOnB",
        "outputId": "b49fdf8d-bc7f-4839-f8af-7d716a40c8d2"
      },
      "execution_count": null,
      "outputs": [
        {
          "output_type": "stream",
          "name": "stdout",
          "text": [
            "mango\n",
            "apple\n",
            "banana\n",
            "orange\n",
            "1\n",
            "2\n",
            "3\n",
            "4\n",
            "5\n"
          ]
        }
      ]
    },
    {
      "cell_type": "code",
      "source": [
        "#program to print multiplication of table\n",
        "a =int(input(\"enter the number to get it's table:\\n\"))\n",
        "for i in range(1,11):\n",
        "  print(str(a)+\"x\"+str(i)+\"=\"+str(a*i))\n",
        "  i+=1"
      ],
      "metadata": {
        "colab": {
          "base_uri": "https://localhost:8080/"
        },
        "id": "o-t4xb6drrcO",
        "outputId": "c4839b69-d0b0-495a-9b3a-31c94831832d"
      },
      "execution_count": null,
      "outputs": [
        {
          "output_type": "stream",
          "name": "stdout",
          "text": [
            "enter the number to get it's table:\n",
            "10\n",
            "10x1=10\n",
            "10x2=20\n",
            "10x3=30\n",
            "10x4=40\n",
            "10x5=50\n",
            "10x6=60\n",
            "10x7=70\n",
            "10x8=80\n",
            "10x9=90\n",
            "10x10=100\n"
          ]
        }
      ]
    },
    {
      "cell_type": "code",
      "source": [
        "# wap to greet the person in the list of names that start with \"s\"\n",
        "names=[\"bilvan\",\"sristi\",\"kruthik\",\"himanth\",\"sehari\"]\n",
        "for i in names:\n",
        "  if(i.startswith(\"s\")):\n",
        "    print(\"hello \",i)\n"
      ],
      "metadata": {
        "colab": {
          "base_uri": "https://localhost:8080/"
        },
        "id": "BGlOldaWtonG",
        "outputId": "6981fff2-d5c0-4cb3-fd27-2425dda8c11e"
      },
      "execution_count": null,
      "outputs": [
        {
          "output_type": "stream",
          "name": "stdout",
          "text": [
            "hello  sristi\n",
            "hello  sehari\n"
          ]
        }
      ]
    },
    {
      "cell_type": "code",
      "source": [
        "# WAP to check weather the given number is prime or not\n",
        "n = int(input(\"enter the number:\"))\n",
        "notprime=True\n",
        "if(n == 0 or n == 1):\n",
        "  print(\"neither prime or even\")\n",
        "for i in range(2,n):\n",
        "   if(n%i == 0):\n",
        "        notprime=True\n",
        "\n",
        "if(notprime):\n",
        "  print(\"not prime\")\n",
        "else:\n",
        "  print(\"prime\")\n"
      ],
      "metadata": {
        "colab": {
          "base_uri": "https://localhost:8080/"
        },
        "id": "EssJp3xUvEpw",
        "outputId": "ba93ec13-7beb-42e1-99ca-f92669abdd53"
      },
      "execution_count": null,
      "outputs": [
        {
          "output_type": "stream",
          "name": "stdout",
          "text": [
            "enter the number:23\n",
            "not prime\n"
          ]
        }
      ]
    },
    {
      "cell_type": "code",
      "source": [
        "# wap to get fibonacci series(0,1,1,2,3,5,8,13....)\n",
        "n1=0\n",
        "n2=1\n",
        "a =int(input(\"enter the number :\"))\n",
        "if(n1==0):\n",
        "  print(\"0\")\n",
        "if(n2==1):\n",
        "  print(\"1\")\n",
        "for i in range(2,a):\n",
        "  n3 = n1+n2\n",
        "  n1=n2\n",
        "  n2=n3\n",
        "  print(n3)\n",
        "\n"
      ],
      "metadata": {
        "id": "6DgyCkWozk9e",
        "colab": {
          "base_uri": "https://localhost:8080/"
        },
        "outputId": "7212f966-a795-4901-9a97-208a08aa31bc"
      },
      "execution_count": null,
      "outputs": [
        {
          "output_type": "stream",
          "name": "stdout",
          "text": [
            "enter the number :10\n",
            "0\n",
            "1\n",
            "1\n",
            "2\n",
            "3\n",
            "5\n",
            "8\n",
            "13\n",
            "21\n",
            "34\n"
          ]
        }
      ]
    },
    {
      "cell_type": "code",
      "source": [
        "#discount and payments problem\n",
        "n=int(input(\"Enter the number of products:\"))\n",
        "\n",
        "discount=0\n",
        "discount_amount=0\n",
        "total_amount=0\n",
        "payable_amount=0\n",
        "\n",
        "for i in range(1,n+1):\n",
        "    products=int(input(\"Enter the product price:\"))\n",
        "    total_amount+=products\n",
        "\n",
        "if(total_amount>1500):\n",
        "    discount=discount+10\n",
        "elif(total_amount>1000 and total_amount <1500):\n",
        "    discount+=5\n",
        "else:\n",
        "    discount+=0\n",
        "\n",
        "discount_amount=total_amount*discount/100\n",
        "payable_amount=total_amount-discount_amount\n",
        "\n",
        "print(\"Welcome to supermarket\")\n",
        "print(\"**********************\")\n",
        "print(\"Total Items you purchased are:\",n)\n",
        "print(\"Total Amount:\",total_amount)\n",
        "print(\"discount: \",discount_amount)\n",
        "print(\"Payable Amount:\",payable_amount)\n",
        "print(\"***********************\")\n",
        "print(\"Thank You! Visit again\")\n"
      ],
      "metadata": {
        "colab": {
          "base_uri": "https://localhost:8080/"
        },
        "id": "E1P-13hswv3_",
        "outputId": "5058e7ba-1ecb-4cfa-932b-e1ce7dc51398"
      },
      "execution_count": null,
      "outputs": [
        {
          "output_type": "stream",
          "name": "stdout",
          "text": [
            "Enter the number of products:3\n",
            "Enter the product price:6000\n",
            "Enter the product price:5000\n",
            "Enter the product price:4000\n",
            "Welcome to supermarket\n",
            "**********************\n",
            "Total Items you purchased are: 3\n",
            "Total Amount: 15000\n",
            "discount:  1500.0\n",
            "Payable Amount: 13500.0\n",
            "***********************\n",
            "Thank You! Visit again\n"
          ]
        }
      ]
    },
    {
      "cell_type": "code",
      "source": [
        "# program using  nested if_else statements for cracking interview\n",
        "\n",
        "marks = int(input(\"enter the marks:\"))\n",
        "\n",
        "if(marks>=40):\n",
        "    print(\"you are qualified for 2nd round\")\n",
        "\n",
        "    marks = int(input(\"enter the marks of round 2nd round:\"))\n",
        "    if(marks>=40):\n",
        "        print(\"you are qualified for 3rd round\")\n",
        "        marks = int(input(\"enter the marks of 3rd round:\"))\n",
        "        if(marks>=40):\n",
        "            print(\"you cracked the interview MR. Rishi,congrats we see you soon on the onboarding day \")\n",
        "        else:\n",
        "            print(\"just missed it,better luck next time:\")\n",
        "\n",
        "    else:\n",
        "        print(\"sorry ,better luck next time\")\n",
        "\n",
        "\n",
        "\n",
        "else:\n",
        "    print(\"sorry you are not qualified \")"
      ],
      "metadata": {
        "colab": {
          "base_uri": "https://localhost:8080/"
        },
        "id": "T9pH95x3Gxa1",
        "outputId": "60d2c897-ee53-4ad4-eeb3-5627b680e54d"
      },
      "execution_count": 3,
      "outputs": [
        {
          "output_type": "stream",
          "name": "stdout",
          "text": [
            "enter the marks:45\n",
            "you are qualified for 2nd round\n",
            "enter the marks of round 2nd round:48\n",
            "you are qualified for 3rd round\n",
            "enter the marks of 3rd round:50\n",
            "you cracked the interview MR. Rishi,congrats we see you soon on the onboarding day \n"
          ]
        }
      ]
    },
    {
      "cell_type": "code",
      "source": [
        "#program to take list as user input from the user\n",
        "patient_details = []\n",
        "for i in range(5):\n",
        "  k =input(\"enter the name: \")\n",
        "  patient_details.append(k)\n",
        "\n",
        "print(patient_details)\n"
      ],
      "metadata": {
        "colab": {
          "base_uri": "https://localhost:8080/"
        },
        "id": "BS_hLHc1IPbO",
        "outputId": "8ec1018d-69b9-4035-c007-65f28e793beb"
      },
      "execution_count": 4,
      "outputs": [
        {
          "output_type": "stream",
          "name": "stdout",
          "text": [
            "enter the name: hello\n",
            "enter the name: rishi\n",
            "enter the name: kumar\n",
            "enter the name: reddy\n",
            "enter the name: sane\n",
            "['hello', 'rishi', 'kumar', 'reddy', 'sane']\n"
          ]
        }
      ]
    },
    {
      "cell_type": "code",
      "source": [
        "#getting patient details and reffering him to the doctor and suggest the tablets\n",
        "ptname=input(\"Enter the ptname:\")\n",
        "ptage=int(input(\"Enter the age:\"))\n",
        "ptgen=input(\"Gender:\")\n",
        "ptwt=int(input(\"Enter the weight:\"))\n",
        "ptprob=input(\"Enter the problem:\")\n",
        "list_patient_data=[]\n",
        "list_patient_data.append(ptname)\n",
        "list_patient_data.append(ptage)\n",
        "list_patient_data.append(ptgen)\n",
        "list_patient_data.append(ptwt)\n",
        "list_patient_data.append(ptprob)\n",
        "\n",
        "doctors=[\"alex(MBBS general medicine)\",\"alin(MBBS general surgeon\",\"polina(MD gastro)\"]\n",
        "\n",
        "doctors_list=\"\"\n",
        "if(list_patient_data[4]==\"fever\"):\n",
        "    doctors_list=doctors_list+doctors[0]\n",
        "elif(list_patient_data[4]==\"stomach\"):\n",
        "    doctors_list+=doctors[2]\n",
        "else:\n",
        "    doctors_list+=doctors[1]\n",
        "\n",
        "\n",
        "fever_medici=[\"dolo-650\",\"clavam\",\"aceclofenac\",\"thiamine\"]\n",
        "headache_medici=[\"sinrest\",\"dolopar\"]\n",
        "stomach_medici=[\"meptalpas\",\"cyclopam\",\"zintac\",\"rantac\"]\n",
        "\n",
        "tablets=[]\n",
        "if(list_patient_data[4]==\"fever\"):\n",
        "    tablets=tablets+fever_medici\n",
        "elif (list_patient_data[4]==\"headache\"):\n",
        "    tablets=tablets+headache_medici\n",
        "else:\n",
        "    tablets=tablets+stomach_medici\n",
        "\n",
        "print(\"**************************************************************************************************************************\")\n",
        "\n",
        "\n",
        "print(\" please visit hospital:                                              XYZ HOSPITAL                                         \")\n",
        "\n",
        "print(\"Patient Name: \",list_patient_data[0],\"  \",\"Gender: \",list_patient_data[2],\"  \",\"Age: \",list_patient_data[1],\"  \",\"Weight: \",list_patient_data[3])\n",
        "print(\"\")\n",
        "print(\" \")\n",
        "print(\"Ref Doctor: \",doctors_list)\n",
        "print(\" \")\n",
        "print(\"Description: \",list_patient_data[4])\n",
        "print(\" \")\n",
        "print(tablets,\"\\n\")  # prints list\n",
        "print(*tablets,\"\\n\") #prints string\n",
        "print(\" \")\n",
        "print(\"Next vist: visit after 5 days\")\n",
        "print(\"\")\n",
        "print(\"Thank you! :)\")\n",
        "\n",
        "print(\"**************************************************************************************************************************\")\n",
        "\n"
      ],
      "metadata": {
        "colab": {
          "base_uri": "https://localhost:8080/"
        },
        "id": "-kJMwalL_No8",
        "outputId": "363475c2-d660-4b68-875f-3162808706df"
      },
      "execution_count": 1,
      "outputs": [
        {
          "output_type": "stream",
          "name": "stdout",
          "text": [
            "Enter the ptname:great\n",
            "Enter the age:22\n",
            "Gender:M\n",
            "Enter the weight:70\n",
            "Enter the problem:fever\n",
            "**************************************************************************************************************************\n",
            " please visit hospital:                                              XYZ HOSPITAL                                         \n",
            "Patient Name:  great    Gender:  M    Age:  22    Weight:  70\n",
            "\n",
            " \n",
            "Ref Doctor:  alex(MBBS general medicine)\n",
            " \n",
            "Description:  fever\n",
            " \n",
            "['dolo-650', 'clavam', 'aceclofenac', 'thiamine'] \n",
            "\n",
            "dolo-650 clavam aceclofenac thiamine \n",
            "\n",
            " \n",
            "Next vist: visit after 5 days\n",
            "\n",
            "Thank you! :)\n",
            "**************************************************************************************************************************\n"
          ]
        }
      ]
    },
    {
      "cell_type": "code",
      "source": [
        "def greet():\n",
        "    print(\"Welcome to the bank! Please open your new account and benefit from our services :)\")\n",
        "\n",
        "curr_balance = 1000\n",
        "\n",
        "def deposit(n):\n",
        "    global curr_balance  # Accessing the global variable\n",
        "    curr_balance += n\n",
        "    print(\"Amount deposited successfully. Your current balance is:\", curr_balance)\n",
        "\n",
        "def withdraw(m):\n",
        "    global curr_balance  # Accessing the global variable\n",
        "    if curr_balance >= m:\n",
        "        curr_balance -= m\n",
        "        print(\"Amount withdrawn successfully. Your current balance is:\", curr_balance)\n",
        "    else:\n",
        "        print(\"Sorry, there are insufficient funds in the account.\")\n",
        "\n",
        "# Example usage\n",
        "greet()\n",
        "deposit(500)\n",
        "withdraw(200)\n"
      ],
      "metadata": {
        "colab": {
          "base_uri": "https://localhost:8080/"
        },
        "id": "aE2qfDzIbtEm",
        "outputId": "83269d31-f9fb-4913-a2f9-14c3bfcb3bf3"
      },
      "execution_count": 25,
      "outputs": [
        {
          "output_type": "stream",
          "name": "stdout",
          "text": [
            "Welcome to the bank! Please open your new account and benefit from our services :)\n",
            "Amount deposited successfully. Your current balance is: 1500\n",
            "Amount withdrawn successfully. Your current balance is: 1300\n"
          ]
        }
      ]
    }
  ]
}